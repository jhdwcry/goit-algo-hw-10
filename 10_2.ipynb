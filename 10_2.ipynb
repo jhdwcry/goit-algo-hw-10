{
  "nbformat": 4,
  "nbformat_minor": 0,
  "metadata": {
    "colab": {
      "provenance": []
    },
    "kernelspec": {
      "name": "python3",
      "display_name": "Python 3"
    },
    "language_info": {
      "name": "python"
    }
  },
  "cells": [
    {
      "cell_type": "code",
      "execution_count": 2,
      "metadata": {
        "colab": {
          "base_uri": "https://localhost:8080/"
        },
        "id": "hoejO3tvl-N3",
        "outputId": "930f4d24-53cb-43fa-e2ed-28332a66b3d1"
      },
      "outputs": [
        {
          "output_type": "execute_result",
          "data": {
            "text/plain": [
              "(2.66976, 2.666666666666667)"
            ]
          },
          "metadata": {},
          "execution_count": 2
        }
      ],
      "source": [
        "import numpy as np\n",
        "from scipy.integrate import quad\n",
        "\n",
        "def f(x):\n",
        "    return x ** 2\n",
        "\n",
        "a = 0\n",
        "b = 2\n",
        "max_y = f(b)\n",
        "\n",
        "n_points = 100000\n",
        "\n",
        "x_random = np.random.uniform(a, b, n_points)\n",
        "y_random = np.random.uniform(0, max_y, n_points)\n",
        "\n",
        "under_curve = y_random < f(x_random)\n",
        "area_estimate = (b - a) * max_y * np.mean(under_curve)\n",
        "\n",
        "integral_exact, _ = quad(f, a, b)\n",
        "\n",
        "area_estimate, integral_exact\n"
      ]
    }
  ]
}